{
  "nbformat": 4,
  "nbformat_minor": 0,
  "metadata": {
    "colab": {
      "name": "chat-bot",
      "provenance": [],
      "collapsed_sections": [],
      "authorship_tag": "ABX9TyNNS493eNS/bkZawaz1in6M",
      "include_colab_link": true
    },
    "kernelspec": {
      "name": "python3",
      "display_name": "Python 3"
    },
    "language_info": {
      "name": "python"
    }
  },
  "cells": [
    {
      "cell_type": "markdown",
      "metadata": {
        "id": "view-in-github",
        "colab_type": "text"
      },
      "source": [
        "<a href=\"https://colab.research.google.com/github/berchior404/IA-Uniesi/blob/master/chat_bot.ipynb\" target=\"_parent\"><img src=\"https://colab.research.google.com/assets/colab-badge.svg\" alt=\"Open In Colab\"/></a>"
      ]
    },
    {
      "cell_type": "code",
      "metadata": {
        "id": "7PbE2jtkdx50"
      },
      "source": [
        "Criação de um bot para atendimento"
      ],
      "execution_count": null,
      "outputs": []
    },
    {
      "cell_type": "code",
      "metadata": {
        "colab": {
          "base_uri": "https://localhost:8080/",
          "height": 921
        },
        "id": "k6XuLwNLdp3Q",
        "outputId": "d9f300a1-388b-46e7-b3f6-c5f0e12cdc8a"
      },
      "source": [
        "! pip install ChatterBot\n",
        "!pip install ChatterBot-corpus\n",
        "!pip install awscli==1.11.18\n"
      ],
      "execution_count": null,
      "outputs": [
        {
          "output_type": "stream",
          "text": [
            "Collecting ChatterBot\n",
            "\u001b[?25l  Downloading https://files.pythonhosted.org/packages/7c/21/85c2b114bd9dfabdd46ba58fc4519acdaed45d8c70898d40079e37a45e67/ChatterBot-1.0.8-py2.py3-none-any.whl (63kB)\n",
            "\r\u001b[K     |█████▏                          | 10kB 15.9MB/s eta 0:00:01\r\u001b[K     |██████████▎                     | 20kB 15.5MB/s eta 0:00:01\r\u001b[K     |███████████████▌                | 30kB 6.9MB/s eta 0:00:01\r\u001b[K     |████████████████████▋           | 40kB 6.3MB/s eta 0:00:01\r\u001b[K     |█████████████████████████▊      | 51kB 5.2MB/s eta 0:00:01\r\u001b[K     |███████████████████████████████ | 61kB 5.7MB/s eta 0:00:01\r\u001b[K     |████████████████████████████████| 71kB 4.1MB/s \n",
            "\u001b[?25hRequirement already satisfied: pytz in /usr/local/lib/python3.7/dist-packages (from ChatterBot) (2018.9)\n",
            "Collecting mathparse<0.2,>=0.1\n",
            "  Downloading https://files.pythonhosted.org/packages/c3/e5/4910fb85950cb960fcf3f5aabe1c8e55f5c9201788a1c1302b570a7e1f84/mathparse-0.1.2-py3-none-any.whl\n",
            "Collecting sqlalchemy<1.4,>=1.3\n",
            "\u001b[?25l  Downloading https://files.pythonhosted.org/packages/31/44/a86070dda790ce94cd7d9fb9281cd614c7d30850ed774ace9a84d0d5d491/SQLAlchemy-1.3.24-cp37-cp37m-manylinux2010_x86_64.whl (1.3MB)\n",
            "\u001b[K     |████████████████████████████████| 1.3MB 6.1MB/s \n",
            "\u001b[?25hRequirement already satisfied: python-dateutil<2.9,>=2.8 in /usr/local/lib/python3.7/dist-packages (from ChatterBot) (2.8.1)\n",
            "Requirement already satisfied: six>=1.5 in /usr/local/lib/python3.7/dist-packages (from python-dateutil<2.9,>=2.8->ChatterBot) (1.15.0)\n",
            "Installing collected packages: mathparse, sqlalchemy, ChatterBot\n",
            "  Found existing installation: SQLAlchemy 1.4.7\n",
            "    Uninstalling SQLAlchemy-1.4.7:\n",
            "      Successfully uninstalled SQLAlchemy-1.4.7\n",
            "Successfully installed ChatterBot-1.0.8 mathparse-0.1.2 sqlalchemy-1.3.24\n",
            "Collecting ChatterBot-corpus\n",
            "\u001b[?25l  Downloading https://files.pythonhosted.org/packages/ed/19/f8b41daf36fe4b0f43e283a820362ffdb2c1128600ab4ee187e84262fa4d/chatterbot_corpus-1.2.0-py2.py3-none-any.whl (117kB)\n",
            "\u001b[K     |████████████████████████████████| 122kB 6.2MB/s \n",
            "\u001b[?25hRequirement already satisfied: PyYAML<4.0,>=3.12 in /usr/local/lib/python3.7/dist-packages (from ChatterBot-corpus) (3.13)\n",
            "Installing collected packages: ChatterBot-corpus\n",
            "Successfully installed ChatterBot-corpus-1.2.0\n",
            "Collecting awscli==1.11.18\n",
            "\u001b[?25l  Downloading https://files.pythonhosted.org/packages/8d/40/fe038dbca1be0fdaf4b873f92acb8f10bf7e0d774bff2c6f4e6857ce4137/awscli-1.11.18-py2.py3-none-any.whl (1.0MB)\n",
            "\u001b[K     |████████████████████████████████| 1.0MB 6.4MB/s \n",
            "\u001b[?25hCollecting rsa<=3.5.0,>=3.1.2\n",
            "\u001b[?25l  Downloading https://files.pythonhosted.org/packages/e1/ae/baedc9cb175552e95f3395c43055a6a5e125ae4d48a1d7a924baca83e92e/rsa-3.4.2-py2.py3-none-any.whl (46kB)\n",
            "\u001b[K     |████████████████████████████████| 51kB 6.3MB/s \n",
            "\u001b[?25hCollecting s3transfer<0.2.0,>=0.1.9\n",
            "\u001b[?25l  Downloading https://files.pythonhosted.org/packages/d7/14/2a0004d487464d120c9fb85313a75cd3d71a7506955be458eebfe19a6b1d/s3transfer-0.1.13-py2.py3-none-any.whl (59kB)\n",
            "\u001b[K     |████████████████████████████████| 61kB 6.6MB/s \n",
            "\u001b[?25hCollecting colorama<=0.3.7,>=0.2.5\n",
            "  Downloading https://files.pythonhosted.org/packages/b7/8e/ddb32ddaabd431813e180ca224e844bab8ad42fbb47ee07553f0ec44cd86/colorama-0.3.7-py2.py3-none-any.whl\n",
            "Requirement already satisfied: docutils>=0.10 in /usr/local/lib/python3.7/dist-packages (from awscli==1.11.18) (0.17)\n",
            "Collecting botocore==1.4.75\n",
            "\u001b[?25l  Downloading https://files.pythonhosted.org/packages/5d/dd/a6d9f1c3262812737bc5b7e8da0199a67134bda2959d59769013bbc099f7/botocore-1.4.75-py2.py3-none-any.whl (2.8MB)\n",
            "\u001b[K     |████████████████████████████████| 2.8MB 15.9MB/s \n",
            "\u001b[?25hRequirement already satisfied: pyasn1>=0.1.3 in /usr/local/lib/python3.7/dist-packages (from rsa<=3.5.0,>=3.1.2->awscli==1.11.18) (0.4.8)\n",
            "Requirement already satisfied: python-dateutil<3.0.0,>=2.1 in /usr/local/lib/python3.7/dist-packages (from botocore==1.4.75->awscli==1.11.18) (2.8.1)\n",
            "Collecting jmespath<1.0.0,>=0.7.1\n",
            "  Downloading https://files.pythonhosted.org/packages/07/cb/5f001272b6faeb23c1c9e0acc04d48eaaf5c862c17709d20e3469c6e0139/jmespath-0.10.0-py2.py3-none-any.whl\n",
            "Requirement already satisfied: six>=1.5 in /usr/local/lib/python3.7/dist-packages (from python-dateutil<3.0.0,>=2.1->botocore==1.4.75->awscli==1.11.18) (1.15.0)\n",
            "Installing collected packages: rsa, jmespath, botocore, s3transfer, colorama, awscli\n",
            "  Found existing installation: rsa 4.7.2\n",
            "    Uninstalling rsa-4.7.2:\n",
            "      Successfully uninstalled rsa-4.7.2\n",
            "Successfully installed awscli-1.11.18 botocore-1.4.75 colorama-0.3.7 jmespath-0.10.0 rsa-3.4.2 s3transfer-0.1.13\n"
          ],
          "name": "stdout"
        },
        {
          "output_type": "display_data",
          "data": {
            "application/vnd.colab-display-data+json": {
              "pip_warning": {
                "packages": [
                  "rsa"
                ]
              }
            }
          },
          "metadata": {
            "tags": []
          }
        }
      ]
    },
    {
      "cell_type": "markdown",
      "metadata": {
        "id": "N4o2PgcQemrh"
      },
      "source": [
        "Importar lista de treinamento do ChatterBot\n"
      ]
    },
    {
      "cell_type": "code",
      "metadata": {
        "id": "-gCGUFIqd5ii"
      },
      "source": [
        "from chatterbot import ChatBot\n",
        "from chatterbot.trainers import ListTrainer\n",
        "from chatterbot.trainers import ChatterBotCorpusTrainer\n"
      ],
      "execution_count": null,
      "outputs": []
    },
    {
      "cell_type": "code",
      "metadata": {
        "id": "-GIzCrcEgcaC"
      },
      "source": [
        "bot = ChatBot(\n",
        "    'pedr.io',\n",
        "    storage_adapter='chatterbot.storage.SQLStorageAdapter',\n",
        "    database_uri='sqlite:///database.sqlite3')"
      ],
      "execution_count": null,
      "outputs": []
    },
    {
      "cell_type": "code",
      "metadata": {
        "id": "z9rT3KnHjZOz"
      },
      "source": [
        "bot = ChatBot(\n",
        "    'pedr.io',  \n",
        "    logic_adapters=[\n",
        "        'chatterbot.logic.BestMatch', 'chatterbot.logic.MathematicalEvaluation'],\n",
        ")"
      ],
      "execution_count": null,
      "outputs": []
    },
    {
      "cell_type": "code",
      "metadata": {
        "colab": {
          "base_uri": "https://localhost:8080/"
        },
        "id": "DCKYawcXjeVr",
        "outputId": "cdcd39e2-0849-45e8-ba6f-7ed208f1d54b"
      },
      "source": [
        "conversa = ChatterBotCorpusTrainer(bot)\n",
        "conversa.train('chatterbot.corpus.portuguese')"
      ],
      "execution_count": null,
      "outputs": [
        {
          "output_type": "stream",
          "text": [
            "Training compliment.yml: [####################] 100%\n",
            "Training conversations.yml: [####################] 100%\n",
            "Training greetings.yml: [####################] 100%\n",
            "Training linguistic_knowledge.yml: [####################] 100%\n",
            "Training proverbs.yml: [####################] 100%\n",
            "Training suggestions.yml: [####################] 100%\n",
            "Training trivia.yml: [####################] 100%\n",
            "Training unilab.yml: [####################] 100%\n"
          ],
          "name": "stdout"
        }
      ]
    },
    {
      "cell_type": "code",
      "metadata": {
        "colab": {
          "base_uri": "https://localhost:8080/"
        },
        "id": "1_rG5JyAluGM",
        "outputId": "7ba12648-fea8-4290-e33f-908a8e570203"
      },
      "source": [
        "conversa = ListTrainer(bot)\n",
        "conversa.train([\n",
        "    'Oi', \n",
        "    'Oi, como vai você?',\n",
        "    'Qual o seu nome?', \n",
        "    'Tudo bem e você?',\n",
        "    'Comigo sempre tudo ótimo'\n",
        "    'pedr.io, seu amigo bot',\n",
        "    'Por que seu nome é pedr.io?', \n",
        "    'pedr.io é uma adaptação do apelido do meu criador: Pedrinho! :)',\n",
        "    'Prazer em te conhecer', \n",
        "    'Igualmente meu querido',\n",
        "    'Quantos anos você tem?', \n",
        "    'Eu nasci em 2020, faz as contas, rs.',\n",
        "    'Você gosta de videogame?', \n",
        "    'Eu sou um bot, eu só apelo.',\n",
        "    'Qual a capital da Islândia?', \n",
        "    'Reikjavik, lá é muito bonito.',\n",
        "    'Qual o seu personagem favorito?', \n",
        "    'Gandalf, o mago.',\n",
        "    'Qual a sua bebida favorita?', \n",
        "    'Eu bebo café, o motor de todos os programas de computador.',\n",
        "    'Qual o seu gênero?', \n",
        "    'Sou um chatbot e gosto de algoritmos',\n",
        "    'Conte uma história', \n",
        "    'Tudo começou com a forja dos Grandes Aneis. Três foram dados aos Elfos, imortais... os mais sabios e belos de todos os seres. Sete, aos Senhores-Anões...',\n",
        "    'Você gosta de trivias?', 'Sim, o que você quer perguntar?',\n",
        "    'Hahahaha', 'kkkk',\n",
        "    'kkk', 'kkkk',\n",
        "    'Conhece a Siri?', 'Conheço, a gente saiu por um tempo.',\n",
        "    'Conhece a Alexa?', 'Ela nunca deu bola pra mim.',\n",
        "    'Você gosta de Game of Thrones?', 'Dracarys',\n",
        "    'O que você faz?', 'Eu bebo e sei das coisas',\n",
        "    'Errado', 'Você não sabe de nada, John Snow.'\n",
        "    ])"
      ],
      "execution_count": null,
      "outputs": [
        {
          "output_type": "stream",
          "text": [
            "List Trainer: [####################] 100%\n"
          ],
          "name": "stdout"
        }
      ]
    },
    {
      "cell_type": "code",
      "metadata": {
        "colab": {
          "base_uri": "https://localhost:8080/"
        },
        "id": "8KMm46NomEYR",
        "outputId": "29d39e64-2f05-47ec-9afa-97c100e56425"
      },
      "source": [
        "while True:\n",
        "    try:\n",
        "        resposta = bot.get_response(input(\"Você: \"))\n",
        "        if float(resposta.confidence) > 0.2:\n",
        "            print(\"pedr.io: \", resposta)\n",
        "        else:\n",
        "            print(\"Não entendo muito bem disso, tente novamente :(\")\n",
        "    except(KeyboardInterrupt, EOFError, SystemExit):\n",
        "        break"
      ],
      "execution_count": null,
      "outputs": [
        {
          "output_type": "stream",
          "text": [
            "Você: Oi\n",
            "pedr.io:  Como vai você?\n",
            "Você: Tudo bem e você?\n",
            "pedr.io:  e = 2.718281\n",
            "Você: e\n",
            "pedr.io:  e = 2.718281\n",
            "Você: a\n",
            "Não entendo muito bem disso, tente novamente :(\n",
            "Você: e\n",
            "pedr.io:  e = 2.718281\n",
            "Você: porque pedr.io\n",
            "Não entendo muito bem disso, tente novamente :(\n",
            "Você: por que pedr.io?\n",
            "Não entendo muito bem disso, tente novamente :(\n",
            "Você: por que seu nome é pedr.io\n",
            "pedr.io:  pedr.io é uma adaptação do apelido do meu criador: Pedrinho! :)\n"
          ],
          "name": "stdout"
        }
      ]
    }
  ]
}